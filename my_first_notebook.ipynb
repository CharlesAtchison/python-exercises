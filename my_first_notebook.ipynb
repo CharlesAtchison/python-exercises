{
 "cells": [
  {
   "cell_type": "markdown",
   "id": "3e3db8e1",
   "metadata": {},
   "source": [
    "press m for markdown"
   ]
  },
  {
   "cell_type": "markdown",
   "id": "03a8d891",
   "metadata": {},
   "source": [
    "press b for a new cell below"
   ]
  },
  {
   "cell_type": "markdown",
   "id": "60be8865",
   "metadata": {},
   "source": [
    "press shift + enter to execute the code"
   ]
  },
  {
   "cell_type": "code",
   "execution_count": null,
   "id": "5aba9c0e",
   "metadata": {},
   "outputs": [],
   "source": [
    "print('This is python cell 1')"
   ]
  },
  {
   "cell_type": "code",
   "execution_count": 2,
   "id": "cf58d1e6",
   "metadata": {},
   "outputs": [
    {
     "name": "stdout",
     "output_type": "stream",
     "text": [
      "This is python cell 2\n"
     ]
    }
   ],
   "source": [
    "print('This is python cell 2')"
   ]
  },
  {
   "cell_type": "code",
   "execution_count": 3,
   "id": "df80dce6",
   "metadata": {},
   "outputs": [
    {
     "name": "stdout",
     "output_type": "stream",
     "text": [
      "This is python cell 3\n"
     ]
    }
   ],
   "source": [
    "print('This is python cell 3')"
   ]
  }
 ],
 "metadata": {
  "kernelspec": {
   "display_name": "Python 3",
   "language": "python",
   "name": "python3"
  },
  "language_info": {
   "codemirror_mode": {
    "name": "ipython",
    "version": 3
   },
   "file_extension": ".py",
   "mimetype": "text/x-python",
   "name": "python",
   "nbconvert_exporter": "python",
   "pygments_lexer": "ipython3",
   "version": "3.8.8"
  }
 },
 "nbformat": 4,
 "nbformat_minor": 5
}
