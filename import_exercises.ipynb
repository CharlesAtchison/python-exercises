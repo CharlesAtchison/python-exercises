{
 "cells": [
  {
   "cell_type": "code",
   "execution_count": 99,
   "id": "336bf9ed",
   "metadata": {},
   "outputs": [],
   "source": [
    "from function_exercises import is_vowel"
   ]
  },
  {
   "cell_type": "code",
   "execution_count": 100,
   "id": "cf76c6b1",
   "metadata": {},
   "outputs": [],
   "source": [
    "from function_exercises import calculate_tip"
   ]
  },
  {
   "cell_type": "code",
   "execution_count": 101,
   "id": "59c80a55",
   "metadata": {},
   "outputs": [],
   "source": [
    "from function_exercises import get_letter_grade as glg"
   ]
  },
  {
   "cell_type": "code",
   "execution_count": 102,
   "id": "cdca864e",
   "metadata": {
    "scrolled": true
   },
   "outputs": [
    {
     "name": "stdout",
     "output_type": "stream",
     "text": [
      "A\n"
     ]
    }
   ],
   "source": [
    "print(glg(99))"
   ]
  },
  {
   "cell_type": "markdown",
   "id": "6516dc8f",
   "metadata": {},
   "source": [
    "### Read about and use the itertools module from the python standard library to help you solve the following problems:\n",
    "\n",
    "* How many different ways can you combine the letters from \"abc\" with the numbers 1, 2, and 3?\n",
    "* How many different combinations are there of 2 letters from \"abcd\"?\n",
    "* How many different permutations are there of 2 letters from \"abcd\"?"
   ]
  },
  {
   "cell_type": "code",
   "execution_count": 103,
   "id": "bb865de6",
   "metadata": {},
   "outputs": [],
   "source": [
    "from itertools import product, permutations, combinations"
   ]
  },
  {
   "cell_type": "code",
   "execution_count": 104,
   "id": "d19748d0",
   "metadata": {
    "scrolled": true
   },
   "outputs": [
    {
     "name": "stdout",
     "output_type": "stream",
     "text": [
      "[('a', 1), ('a', 2), ('a', 3), ('b', 1), ('b', 2), ('b', 3), ('c', 1), ('c', 2), ('c', 3)]\n"
     ]
    }
   ],
   "source": [
    "print(list(product(['a', 'b', 'c'], [1, 2, 3])))"
   ]
  },
  {
   "cell_type": "code",
   "execution_count": 105,
   "id": "87a96f3f",
   "metadata": {},
   "outputs": [
    {
     "name": "stdout",
     "output_type": "stream",
     "text": [
      "[('a', 'b'), ('a', 'c'), ('a', 'd'), ('b', 'c'), ('b', 'd'), ('c', 'd')]\n"
     ]
    }
   ],
   "source": [
    "print(list(combinations(['a', 'b', 'c', 'd'], 2)))"
   ]
  },
  {
   "cell_type": "code",
   "execution_count": 106,
   "id": "1b39a133",
   "metadata": {},
   "outputs": [
    {
     "name": "stdout",
     "output_type": "stream",
     "text": [
      "[('a', 'b'), ('a', 'c'), ('a', 'd'), ('b', 'a'), ('b', 'c'), ('b', 'd'), ('c', 'a'), ('c', 'b'), ('c', 'd'), ('d', 'a'), ('d', 'b'), ('d', 'c')]\n"
     ]
    }
   ],
   "source": [
    "print(list(permutations(['a', 'b', 'c', 'd'], 2)))"
   ]
  },
  {
   "cell_type": "markdown",
   "id": "35e8ebff",
   "metadata": {},
   "source": [
    "### Your code should produce a list of dictionaries. Using this data, write some code that calculates and outputs the following information:\n",
    "\n",
    "* Total number of users\n",
    "* Number of active users\n",
    "* Number of inactive users\n",
    "* Grand total of balances for all users\n",
    "* Average balance per user\n",
    "* User with the lowest balance\n",
    "* User with the highest balance\n",
    "* Most common favorite fruit\n",
    "* Least most common favorite fruit\n",
    "* Total number of unread messages for all users"
   ]
  },
  {
   "cell_type": "code",
   "execution_count": 150,
   "id": "9282d852",
   "metadata": {},
   "outputs": [
    {
     "name": "stdout",
     "output_type": "stream",
     "text": [
      "The total number of users: 19\n",
      "The number of active users: 9\n",
      "The number of inactive users: 10\n",
      "Grand total of balances for all users: $52667.02\n",
      "Average balance per user: $2771.95\n",
      "User with lowest balance: Avery Flynn\n",
      "User with highest balance: Fay Hammond\n",
      "Most common favorite fruit: strawberry\n",
      "Least common favorite fruit: apple\n",
      "Total number of unread messages for all users: 210\n"
     ]
    }
   ],
   "source": [
    "from json import load, dumps\n",
    "\n",
    "json_tup_of_dicts = load(open('profiles.json'))    \n",
    "\n",
    "\n",
    "total_number_of_active_users = 0\n",
    "total_number_of_inactive_users = 0\n",
    "grand_total_balance = 0\n",
    "total_users = 0\n",
    "user_with_lowest_balance = [[], 0]\n",
    "user_with_highest_balance = [[], 0]\n",
    "fruit_counts = dict()\n",
    "total_unread_messages = 0\n",
    "\n",
    "\n",
    "\n",
    "for each_person in json_tup_of_dicts:\n",
    "    # Counts total users\n",
    "    total_users += 1\n",
    "    \n",
    "    # Counts each active user\n",
    "    if each_person['isActive']:\n",
    "        total_number_of_active_users += 1\n",
    "    # Counts each inactive user\n",
    "    if not each_person['isActive']:\n",
    "        total_number_of_inactive_users += 1\n",
    "        \n",
    "    # Formats balance to float to compare\n",
    "    balance = float(each_person['balance'].replace('$', '').replace(',', ''))\n",
    "    \n",
    "    # On-going tally of total balance\n",
    "    grand_total_balance += balance\n",
    "    \n",
    "    # Checks for users with highest balance\n",
    "    if balance >= user_with_highest_balance[1]:\n",
    "        if balance == user_with_highest_balance[1]:\n",
    "            user_with_highest_balance[0].append(each_person['name'])\n",
    "        else:\n",
    "            user_with_highest_balance[0] = [each_person['name']]\n",
    "            user_with_highest_balance[1] = balance\n",
    "    \n",
    "    # Checks for users with lowest balance\n",
    "    if balance <= user_with_lowest_balance[1] or user_with_lowest_balance[1] == 0 :\n",
    "        if balance == user_with_lowest_balance[1]:\n",
    "            user_with_lowest_balance[0].append(each_person['name'])\n",
    "        else:\n",
    "            user_with_lowest_balance[0] = [each_person['name']]\n",
    "            user_with_lowest_balance[1] = balance\n",
    "    # On-going dict tally for fruits\n",
    "    fav_fruit = each_person['favoriteFruit']\n",
    "    if fav_fruit not in fruit_counts.keys():\n",
    "        fruit_counts[fav_fruit] = 1\n",
    "    else:\n",
    "        fruit_counts[fav_fruit] += 1\n",
    "    \n",
    "    # On-going count of unread messages as an int\n",
    "    total_unread_messages += int(each_person['greeting'].split('have ')[-1].split(' ')[0])\n",
    "    \n",
    "average_balance_per_user = grand_total_balance/total_users\n",
    "\n",
    "print(f'The total number of users: {total_users}')\n",
    "print(f'The number of active users: {total_number_of_active_users}')\n",
    "print(f'The number of inactive users: {total_number_of_inactive_users}')\n",
    "print(f'Grand total of balances for all users: ${grand_total_balance}')\n",
    "print(f'Average balance per user: ${average_balance_per_user:0.2f}')\n",
    "print(f'User with lowest balance: {user_with_lowest_balance[0][0]}')\n",
    "print(f'User with highest balance: {user_with_highest_balance[0][0]}')\n",
    "print(f'Most common favorite fruit: {max(fruit_counts)}')\n",
    "print(f'Least common favorite fruit: {min(fruit_counts)}')\n",
    "print(f'Total number of unread messages for all users: {total_unread_messages}')"
   ]
  }
 ],
 "metadata": {
  "kernelspec": {
   "display_name": "Python 3",
   "language": "python",
   "name": "python3"
  },
  "language_info": {
   "codemirror_mode": {
    "name": "ipython",
    "version": 3
   },
   "file_extension": ".py",
   "mimetype": "text/x-python",
   "name": "python",
   "nbconvert_exporter": "python",
   "pygments_lexer": "ipython3",
   "version": "3.8.8"
  }
 },
 "nbformat": 4,
 "nbformat_minor": 5
}
