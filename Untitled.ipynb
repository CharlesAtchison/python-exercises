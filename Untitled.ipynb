{
 "cells": [
  {
   "cell_type": "code",
   "execution_count": 12,
   "id": "1fae27e7",
   "metadata": {},
   "outputs": [
    {
     "ename": "SyntaxError",
     "evalue": "invalid syntax (<ipython-input-12-4d50d94136b9>, line 53)",
     "output_type": "error",
     "traceback": [
      "\u001b[0;36m  File \u001b[0;32m\"<ipython-input-12-4d50d94136b9>\"\u001b[0;36m, line \u001b[0;32m53\u001b[0m\n\u001b[0;31m    print(assert col_index('AA') == 27)\u001b[0m\n\u001b[0m          ^\u001b[0m\n\u001b[0;31mSyntaxError\u001b[0m\u001b[0;31m:\u001b[0m invalid syntax\n"
     ]
    }
   ],
   "source": [
    "# 14)\n",
    "def col_index(sprdsht_col_name):\n",
    "    '''\n",
    "    Takes a spreadsheet col name as a string and returns the index as an int\n",
    "\n",
    "    Example:\n",
    "    col_index('A') returns 1\n",
    "    col_index('B') returns 2\n",
    "    col_index('AA') returns 27\n",
    "    '''\n",
    "    # lowers the spreadsheet col name to compare to lowercase chars\n",
    "    sprdsht_col_name = sprdsht_col_name.lower()\n",
    "    \n",
    "    # The count will have string numbers to hold raw letter values in each position\n",
    "    count = ''\n",
    "\n",
    "    # Iterates through each column within the col_name numerically\n",
    "    # Such as there would be 3 columns for the col_index name ('AAA')\n",
    "    for each_col in range(len(sprdsht_col_name)):\n",
    "        # Iterates through the alphabet useing enumerate to keep count of what letter value (starting at 1)\n",
    "        for n, each_char in enumerate([each_letter for each_letter in 'abcdefghijklmnopqrstuvwxyz'], 1):\n",
    "            # If the character is the same as that specific col name, it adds that count STRING to \n",
    "            # the coun and then stops the iteration and begins on the next col\n",
    "            if each_char == sprdsht_col_name[each_col]:\n",
    "                count += str(n)\n",
    "                break\n",
    "    \n",
    "    # This sets the mathematical total to 0\n",
    "    total = 0\n",
    "    # Since the matematical extrapolation requires more than 1 digit, just return same val\n",
    "    # for any col_index of len 1\n",
    "    if len(count) == 1:\n",
    "        return (int(count))\n",
    "    # If there is a col length greater than 1, iterate through each count place holder (str)\n",
    "    else:\n",
    "        # enumerate through each value to get the index (base 1) and placeholder value (str)\n",
    "        for n, each_val in enumerate(count, 1):\n",
    "            # Checks if the last value is up by comparing length of orig string to what index\n",
    "            # is currently being checked.\n",
    "            if n == len(count):\n",
    "                # Adds raw value, after converted to an int to the total int\n",
    "                total += int(each_val)\n",
    "            else:\n",
    "                # If it is not the final value, multiply the value by 26 to count the iterations required\n",
    "                # Example: \n",
    "                # the Col_index of 'BB' would have the count of '22' as string and would require 2 \n",
    "                # iterations through the alphabet to get the first 'B' which would be 26 * 2 = 52\n",
    "                # then it would require 2 more tests 'A then B' to get to 'B' being 2.\n",
    "                # Therefore, 52+2 = 54.\n",
    "                total += int(each_val) * 26\n",
    "    return total\n",
    "\n",
    "assert col_index('AA') == 27\n",
    "assert col_"
   ]
  }
 ],
 "metadata": {
  "kernelspec": {
   "display_name": "Python 3",
   "language": "python",
   "name": "python3"
  },
  "language_info": {
   "codemirror_mode": {
    "name": "ipython",
    "version": 3
   },
   "file_extension": ".py",
   "mimetype": "text/x-python",
   "name": "python",
   "nbconvert_exporter": "python",
   "pygments_lexer": "ipython3",
   "version": "3.8.8"
  }
 },
 "nbformat": 4,
 "nbformat_minor": 5
}
